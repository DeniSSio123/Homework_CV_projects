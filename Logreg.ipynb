{
 "cells": [
  {
   "cell_type": "code",
   "execution_count": 2,
   "metadata": {},
   "outputs": [],
   "source": [
    "import pickle\n",
    "import numpy as np\n",
    "import PIL.Image\n",
    "import itertools\n",
    "from IPython.core.display import Image, display\n",
    "import scipy.ndimage\n",
    "import random\n",
    "import pandas as pd\n",
    "import matplotlib.pylab as plt\n",
    "import math\n",
    "%matplotlib inline"
   ]
  },
  {
   "cell_type": "markdown",
   "metadata": {
    "collapsed": true
   },
   "source": [
    "# Загружаем датасет"
   ]
  },
  {
   "cell_type": "code",
   "execution_count": 3,
   "metadata": {},
   "outputs": [],
   "source": [
    "with open('C:\\\\Users\\\\denis\\\\Downloads\\\\hw_1_train.pickle', 'rb') as f:\n",
    "    train = pickle.load(f)\n",
    "\n",
    "with open('C:\\\\Users\\\\denis\\\\Downloads\\\\hw_1_test_no_lables.pickle', 'rb') as f:\n",
    "    test_no_lables = pickle.load(f)"
   ]
  },
  {
   "cell_type": "code",
   "execution_count": 17,
   "metadata": {},
   "outputs": [
    {
     "data": {
      "text/plain": [
       "array([[0, 0, 0, ..., 0, 0, 0],\n",
       "       [0, 0, 0, ..., 0, 0, 0],\n",
       "       [0, 0, 0, ..., 0, 0, 0],\n",
       "       ...,\n",
       "       [0, 0, 0, ..., 0, 0, 0],\n",
       "       [0, 0, 0, ..., 0, 0, 0],\n",
       "       [0, 0, 0, ..., 0, 0, 0]], dtype=uint8)"
      ]
     },
     "execution_count": 17,
     "metadata": {},
     "output_type": "execute_result"
    }
   ],
   "source": [
    "result=train['data']\n",
    "result"
   ]
  },
  {
   "cell_type": "code",
   "execution_count": 11,
   "metadata": {},
   "outputs": [
    {
     "data": {
      "text/plain": [
       "array([[0, 0, 0, ..., 0, 0, 0],\n",
       "       [0, 0, 0, ..., 0, 0, 0],\n",
       "       [0, 0, 0, ..., 0, 0, 0],\n",
       "       ...,\n",
       "       [0, 0, 0, ..., 0, 0, 0],\n",
       "       [0, 0, 0, ..., 0, 0, 0],\n",
       "       [0, 0, 0, ..., 0, 0, 0]], dtype=uint8)"
      ]
     },
     "execution_count": 11,
     "metadata": {},
     "output_type": "execute_result"
    }
   ],
   "source": [
    "result=test_no_lables['data']\n",
    "result"
   ]
  },
  {
   "cell_type": "code",
   "execution_count": 5,
   "metadata": {},
   "outputs": [
    {
     "data": {
      "text/plain": [
       "array([-1., -1.,  1., ...,  1., -1.,  1.])"
      ]
     },
     "execution_count": 5,
     "metadata": {},
     "output_type": "execute_result"
    }
   ],
   "source": [
    "train['labels'][train['labels']==5]=-1\n",
    "train['labels'][train['labels']==6]=+1\n",
    "train['labels']"
   ]
  },
  {
   "cell_type": "code",
   "execution_count": 18,
   "metadata": {},
   "outputs": [],
   "source": [
    "mean = np.mean(result, axis=0)\n",
    "std = np.std(result, axis=0)\n",
    "with np.errstate(divide='ignore', invalid='ignore'): \n",
    "        result_norm = (result - mean) / (std)\n",
    "result_norm[np.isnan(result_norm)] = 0 "
   ]
  },
  {
   "cell_type": "code",
   "execution_count": 19,
   "metadata": {},
   "outputs": [
    {
     "data": {
      "text/plain": [
       "array([[1., 0., 0., ..., 0., 0., 0.],\n",
       "       [1., 0., 0., ..., 0., 0., 0.],\n",
       "       [1., 0., 0., ..., 0., 0., 0.],\n",
       "       ...,\n",
       "       [1., 0., 0., ..., 0., 0., 0.],\n",
       "       [1., 0., 0., ..., 0., 0., 0.],\n",
       "       [1., 0., 0., ..., 0., 0., 0.]])"
      ]
     },
     "execution_count": 19,
     "metadata": {},
     "output_type": "execute_result"
    }
   ],
   "source": [
    "# добавляем единичную колонку для w0\n",
    "X = np.hstack([ np.ones((result.shape[0], 1)), result_norm] )\n",
    "X"
   ]
  },
  {
   "cell_type": "code",
   "execution_count": 20,
   "metadata": {
    "collapsed": true
   },
   "outputs": [
    {
     "data": {
      "text/plain": [
       "array([ 1.74945474e-03, -2.86072997e-04, -4.84565132e-04, -2.65331856e-03,\n",
       "       -8.28462937e-06, -3.19631364e-04, -5.36629362e-04,  3.15402668e-04,\n",
       "        4.21050716e-04, -1.06560298e-03, -8.86239670e-04, -4.75733493e-04,\n",
       "        6.89682310e-04,  5.61192176e-04, -1.30554851e-03, -1.11947526e-03,\n",
       "        7.36837391e-04,  1.57463407e-03, -3.10750885e-05, -6.83446627e-04,\n",
       "        1.09562970e-03, -3.09576637e-04,  7.25752225e-04,  1.54907163e-03,\n",
       "        6.30079822e-04,  7.34932370e-05,  7.32271354e-04, -6.42575392e-04,\n",
       "       -1.78093175e-04, -5.73954559e-04, -2.04375316e-04, -4.86495100e-04,\n",
       "       -1.85775324e-04, -3.80536417e-04,  8.89776353e-05,  6.36716614e-05,\n",
       "        2.96347108e-04,  1.40277112e-03, -1.54686257e-03,  1.29561858e-03,\n",
       "       -2.37250446e-04, -1.23234621e-03, -1.72419767e-04,  9.18383749e-05,\n",
       "        1.06755846e-03, -1.06163445e-03,  2.17348208e-04,  1.17819504e-04,\n",
       "       -1.68411089e-03, -1.18575527e-03,  6.00102006e-04,  6.95567255e-04,\n",
       "        1.08771086e-03,  5.33821716e-04,  3.95212013e-04,  1.22867529e-04,\n",
       "        1.20910164e-03, -8.43066101e-04, -1.41893581e-04,  3.85354138e-04,\n",
       "       -1.57749431e-03,  1.31094364e-03, -7.92865008e-04, -7.17494122e-05,\n",
       "        2.15667443e-03, -8.29437252e-04, -5.29372028e-04,  1.56170369e-03,\n",
       "       -1.08019383e-03, -4.32057619e-04,  5.16084037e-04,  4.55392860e-04,\n",
       "        5.93686203e-04,  3.70506334e-04,  1.34537807e-03,  1.01594215e-03,\n",
       "        5.95278454e-04, -6.82801616e-04, -7.13559929e-04, -1.90828954e-03,\n",
       "        6.87312349e-04, -1.82300958e-03,  8.79113800e-04,  1.84636487e-03,\n",
       "       -1.06165440e-03, -6.84484668e-04, -4.76214480e-04,  8.30310430e-04,\n",
       "       -8.63352516e-04, -1.30541467e-04, -5.23087633e-04, -2.51276924e-04,\n",
       "        1.29127473e-03, -9.64204853e-04,  7.17597742e-05,  2.71606296e-04,\n",
       "        8.58667174e-04, -1.26407368e-03,  1.11487028e-03,  4.34776987e-04,\n",
       "        8.74272766e-04,  7.16521003e-05, -1.63905163e-03, -6.47302631e-04,\n",
       "        8.17769566e-04,  3.67947540e-05, -4.87025424e-05,  1.79153110e-03,\n",
       "        2.20185631e-03, -3.70669044e-05,  1.93290543e-03, -1.99357153e-03,\n",
       "       -2.04905726e-03,  8.67055208e-04, -2.61961073e-04,  5.78971107e-04,\n",
       "        5.16552386e-04, -8.94036405e-05,  6.82129710e-04,  1.50722009e-04,\n",
       "       -1.53214252e-03,  2.18868577e-04,  1.85663254e-04,  1.83277654e-03,\n",
       "       -1.12889440e-03,  1.69968808e-05, -4.24428825e-04, -1.32909899e-04,\n",
       "        1.65920462e-03,  3.78640684e-04, -4.64566062e-04,  1.53841245e-04,\n",
       "        7.66160620e-04, -9.94027693e-04, -2.64342329e-04,  1.54220922e-03,\n",
       "        8.56152046e-04, -4.48026170e-05, -4.77489229e-04, -1.54065524e-04,\n",
       "       -1.55107946e-03,  9.43035981e-04,  3.41153439e-04,  1.38273217e-04,\n",
       "       -1.29742262e-03, -7.14962444e-04,  5.14479633e-04,  2.57716381e-04,\n",
       "       -4.96730477e-04,  5.05021917e-04,  9.38783125e-04, -6.75020275e-04,\n",
       "       -5.30858240e-04, -8.69861944e-04, -1.15526422e-03,  7.96671847e-04,\n",
       "        5.10028022e-04,  3.38713936e-04, -1.17212003e-03, -1.04596765e-03,\n",
       "       -6.76685643e-05, -4.13209753e-04,  1.20082800e-04, -6.98971686e-04,\n",
       "        6.54024882e-04,  1.79948007e-03,  1.54660610e-03,  1.60987398e-03,\n",
       "        7.10197803e-05,  9.21575231e-04, -3.76829843e-04,  9.19982543e-04,\n",
       "       -3.78422554e-04, -4.88975435e-04, -6.44393817e-04,  6.99140837e-04,\n",
       "        2.75406658e-04,  1.86325341e-04, -1.13980565e-03,  1.41804891e-04,\n",
       "       -1.44071935e-03,  1.47651282e-03, -1.31553483e-04,  1.94429202e-04,\n",
       "       -1.05149253e-04, -1.58396258e-03, -1.37177369e-03, -2.83183382e-05,\n",
       "        1.49247150e-03, -1.11523722e-03, -7.05414026e-04, -4.72325745e-05,\n",
       "       -1.68728061e-03, -1.69734212e-03, -4.11453942e-04, -4.52751431e-05,\n",
       "       -3.91173133e-04,  1.53422235e-03, -1.64192947e-04,  3.60366653e-04,\n",
       "        1.59804990e-03,  1.70372182e-03, -1.58951989e-03, -3.77246517e-04,\n",
       "        1.16250551e-03, -1.37885871e-03, -9.23995680e-04, -1.29751339e-03,\n",
       "       -1.36193423e-03, -1.13418537e-03,  1.76842752e-04,  1.26892552e-03,\n",
       "        1.52802288e-03,  1.18879834e-05, -1.97057189e-03, -5.66325852e-05,\n",
       "       -3.39202415e-04,  3.52321122e-04, -1.28413112e-04, -1.79611310e-03,\n",
       "        4.13283446e-04, -2.06783544e-03, -6.90111214e-04,  3.11750714e-04,\n",
       "        3.50366567e-04,  1.57134801e-03, -2.36241359e-03,  3.39984209e-04,\n",
       "        6.89380345e-04, -3.27214137e-04,  6.38031524e-04, -1.10199863e-03,\n",
       "        6.57027580e-04,  5.38215247e-04, -9.81629654e-04, -6.66639813e-04,\n",
       "       -1.89823936e-04, -6.56085353e-04,  1.04439708e-03,  1.75167466e-04,\n",
       "        1.31473333e-03,  1.17524957e-03,  6.08470118e-05, -1.93104579e-04,\n",
       "       -9.46655655e-04, -8.04610624e-04, -8.01191118e-04,  3.47850538e-04,\n",
       "       -8.83665815e-04,  7.86582817e-05,  1.92589128e-04, -4.96234310e-04,\n",
       "       -1.86224544e-04,  1.44536991e-03,  1.61198152e-03, -7.82633025e-04,\n",
       "       -1.94613444e-04, -3.72132047e-04, -2.75766545e-04,  1.53513784e-03,\n",
       "        6.86454638e-04,  1.25991572e-03,  1.77687949e-03, -4.40313500e-04,\n",
       "       -1.87207270e-04,  4.04065826e-05,  1.02603648e-03, -9.09978071e-05,\n",
       "        6.45786326e-04,  1.16830864e-03,  1.16323032e-03,  4.46678891e-04,\n",
       "       -7.88715428e-04, -1.55410210e-03,  1.12163308e-03,  4.56599937e-04,\n",
       "       -9.37475882e-04, -5.05076178e-04, -4.48800499e-04, -1.67494900e-03,\n",
       "        2.51546094e-04, -7.87039139e-04, -2.94406733e-04,  7.39700706e-04,\n",
       "       -9.56359053e-05,  5.43053195e-04,  4.22385239e-04,  3.16691270e-05,\n",
       "        4.88309762e-05,  1.86161336e-03, -1.70675893e-04,  1.62767204e-03,\n",
       "       -9.14000703e-04,  7.29400692e-04,  1.70905427e-04, -7.29254437e-04,\n",
       "       -2.64746453e-03,  1.59492471e-03, -1.15520405e-03, -9.63054051e-04,\n",
       "        1.29630012e-04,  5.71391433e-05,  2.78796114e-04, -2.54078142e-04,\n",
       "       -1.49961583e-03,  8.67012621e-04, -9.04686782e-04,  2.23289986e-04,\n",
       "        5.74441133e-04,  1.18222523e-03, -2.17903411e-04, -3.05439059e-04,\n",
       "       -2.33311919e-04, -1.84858519e-03, -7.54816358e-04, -1.00438404e-03,\n",
       "       -1.14986304e-03,  1.67693391e-04, -3.11488255e-04,  1.59626504e-03,\n",
       "        1.48895888e-03, -1.88244883e-03,  1.22579216e-04, -1.00116448e-03,\n",
       "        5.56190535e-04,  1.58119755e-04,  9.30516835e-04,  3.10832813e-04,\n",
       "        7.61206486e-04, -2.98570602e-04, -2.50809328e-03, -1.18508283e-03,\n",
       "       -8.54932065e-04, -4.90149553e-04, -1.01216245e-03,  1.63318137e-03,\n",
       "       -1.68156423e-04,  1.29605086e-03, -3.38273194e-04,  1.65426911e-03,\n",
       "       -1.20027674e-03,  5.99660640e-04, -1.32996420e-03,  4.42057669e-04,\n",
       "        1.58670445e-03, -1.63399458e-03, -8.71977598e-04,  2.45244786e-04,\n",
       "       -1.85927876e-04, -1.36904400e-03,  1.15668896e-03,  5.23149302e-05,\n",
       "        1.29355079e-03,  3.18622256e-04, -1.15339830e-03, -4.81241937e-04,\n",
       "        1.38209872e-03, -1.38585825e-03, -4.65797160e-04,  6.00624723e-04,\n",
       "        1.01502647e-03,  8.27361089e-04, -1.47420268e-03,  2.08637772e-03,\n",
       "       -1.64667521e-04,  1.22356537e-05, -3.00907909e-06, -2.31950844e-04,\n",
       "       -9.67098147e-04, -3.26960279e-04,  1.32234176e-03, -1.36214550e-03,\n",
       "       -2.43225411e-03,  5.34972887e-04,  3.37659217e-04,  7.27863204e-04,\n",
       "        1.72719055e-03, -7.25290955e-04,  1.77162184e-04,  5.02569331e-04,\n",
       "        1.23162418e-03,  1.02592292e-03, -8.43008707e-04, -1.37750376e-03,\n",
       "       -2.72680000e-04, -1.61286924e-03,  1.10954512e-03, -3.94789502e-04,\n",
       "       -3.56111975e-04, -8.89995096e-04,  1.52354302e-03,  2.87854304e-04,\n",
       "       -4.12338916e-04,  6.11432601e-04, -8.54758925e-05,  5.93497874e-04,\n",
       "        1.31881136e-03, -2.64884262e-04,  5.12136170e-04,  4.77885629e-04,\n",
       "        1.13418899e-03,  5.94343809e-04,  3.22842608e-05, -6.42887559e-04,\n",
       "        2.94665550e-04, -1.04638046e-03,  6.54463056e-04,  5.93712754e-05,\n",
       "        5.48895015e-04, -5.19849274e-04, -8.01887070e-04, -9.13516553e-04,\n",
       "        1.10669545e-03, -2.19076525e-04, -2.30331504e-04, -1.78966121e-03,\n",
       "       -5.71215188e-05, -3.46028277e-03,  1.36218256e-03, -2.41740514e-04,\n",
       "        2.09209644e-05, -1.42865327e-03, -1.09584642e-03,  6.04649306e-04,\n",
       "       -2.08538280e-04,  4.29234416e-04,  1.27083012e-03,  6.63237902e-04,\n",
       "       -1.89894181e-03, -9.84491995e-04, -1.13572571e-03, -9.09964407e-04,\n",
       "       -2.08023234e-03, -2.05172837e-03, -7.43791279e-04, -5.97998866e-04,\n",
       "        5.16327302e-04, -3.24758601e-04,  1.42144011e-03, -1.82690531e-03,\n",
       "       -1.39171648e-03,  2.49311522e-04, -2.74068922e-04, -9.89827585e-04,\n",
       "        7.67856250e-04,  1.08687674e-03,  1.30871118e-03, -4.00746716e-04,\n",
       "       -9.17253929e-06,  2.25701384e-04,  5.52582194e-05,  1.01826734e-03,\n",
       "       -4.93193985e-04,  3.67971351e-04, -2.21271239e-03,  7.52899607e-04,\n",
       "        1.63743941e-03, -2.87774716e-05,  1.03502630e-03, -1.66415721e-03,\n",
       "       -3.35225450e-04, -1.54405545e-03,  3.16985497e-04,  5.20793811e-04,\n",
       "       -1.37270579e-03, -8.48616511e-04, -5.87242903e-04,  2.42086129e-03,\n",
       "       -7.48792462e-05,  1.18695639e-04,  3.59167836e-04,  2.96231093e-04,\n",
       "       -2.40608164e-04, -1.33269864e-03, -6.80972651e-04,  1.63299228e-03,\n",
       "        2.54751194e-04, -3.73780781e-04, -1.35457100e-03, -5.74084009e-05,\n",
       "        3.01509790e-05, -6.54156953e-04,  8.90425460e-04, -5.90291970e-04,\n",
       "       -1.69800332e-04,  8.41362537e-04,  2.22925534e-04,  1.12156154e-03,\n",
       "       -2.30533190e-04, -4.33677337e-04,  4.66963459e-04,  2.13618975e-04,\n",
       "        1.18472916e-03,  4.05290316e-04, -2.69871533e-05,  4.48873787e-04,\n",
       "        6.54723591e-04, -1.12133903e-03, -1.43429075e-04, -3.34572377e-04,\n",
       "        1.20017074e-03, -4.85134505e-04,  1.06354987e-03, -1.26499546e-03,\n",
       "       -5.55186002e-05,  1.06716532e-03, -2.60815981e-04,  1.15255811e-03,\n",
       "       -2.02730640e-03,  2.71763748e-05,  1.61283895e-04, -1.25505176e-04,\n",
       "       -1.50838795e-03,  6.66132217e-04, -2.33031173e-03,  9.48509679e-04,\n",
       "        2.91738207e-04,  9.87129511e-04, -2.53880983e-04, -1.11096274e-03,\n",
       "       -5.15898951e-04, -4.63817591e-04,  5.98709076e-04, -3.11067241e-04,\n",
       "        4.15324311e-04,  4.85165816e-04,  1.42253130e-03, -1.98540123e-03,\n",
       "       -4.00674255e-04,  6.92475732e-04,  6.95540938e-04, -5.52861848e-04,\n",
       "       -2.55802983e-04, -8.38817684e-05,  1.41851193e-04, -5.50971089e-04,\n",
       "       -6.29690899e-04, -1.10391410e-03, -3.65215050e-04,  1.40188777e-03,\n",
       "       -9.31873986e-04,  9.79750021e-04,  1.95673882e-03,  2.23597506e-04,\n",
       "        2.37965972e-03, -1.16283701e-04,  1.69206253e-03, -1.93932761e-05,\n",
       "       -1.18215720e-03,  3.77670887e-04,  1.91702122e-03, -5.54529901e-04,\n",
       "        5.14875068e-04, -9.59286190e-04, -8.46687696e-04,  4.93338850e-04,\n",
       "       -1.44953577e-04,  6.05290142e-04,  1.31364041e-03, -1.13596178e-03,\n",
       "       -6.43254936e-04,  8.95451023e-05,  2.36204309e-03, -2.76392418e-04,\n",
       "       -4.32615350e-04,  4.88949777e-04,  2.16088256e-03, -5.24993508e-04,\n",
       "       -2.46979491e-04,  1.02465143e-04,  8.18488430e-04,  2.24544897e-03,\n",
       "       -1.17977046e-03, -1.59360290e-03,  2.27264661e-04,  6.07205226e-04,\n",
       "       -2.15582588e-03, -5.36682412e-04,  1.03860719e-03, -4.45589116e-04,\n",
       "        5.66118198e-04,  2.58252203e-04,  7.36554552e-04,  5.20950993e-04,\n",
       "        3.49870082e-04,  1.33618095e-03, -4.69046692e-04,  2.17230245e-04,\n",
       "        1.22408773e-03, -4.63435701e-04, -2.72742702e-04, -6.53421208e-04,\n",
       "       -8.38507310e-04,  2.12397729e-03,  5.72913681e-04,  1.97993876e-03,\n",
       "        8.36421517e-04,  1.81935032e-04, -1.76010485e-04,  3.69821846e-04,\n",
       "        6.16906000e-05,  1.01732445e-03, -7.65860391e-04,  2.74385651e-04,\n",
       "        5.68357439e-04, -1.24730729e-04, -1.26386823e-04,  6.55342932e-04,\n",
       "        6.65205215e-04,  2.27677556e-06,  9.14736335e-05, -4.51381304e-04,\n",
       "        6.59604574e-04, -1.71449520e-05, -1.46371729e-03, -2.10919718e-04,\n",
       "        7.11476031e-04,  3.76913008e-04, -7.93300752e-04,  8.24689625e-04,\n",
       "        6.92891846e-04,  6.94217769e-04,  1.60748624e-03, -2.50159247e-04,\n",
       "        6.81014824e-04, -1.79429937e-04,  1.06010204e-03,  1.23142527e-03,\n",
       "        5.58438284e-04,  8.11895936e-04, -7.43953596e-04,  6.86394781e-04,\n",
       "       -1.12636127e-03,  2.21899627e-03,  1.20830504e-03, -1.47566562e-03,\n",
       "       -2.60970265e-03,  1.34395310e-03, -8.13614107e-04,  5.80694719e-04,\n",
       "       -1.26264253e-03,  1.02469695e-04, -6.16263384e-04,  6.24506300e-04,\n",
       "       -3.08993256e-04,  1.50852904e-03, -7.35250004e-04,  1.29985407e-03,\n",
       "        3.11772729e-06,  5.39082200e-04, -1.57440847e-03, -1.73548046e-03,\n",
       "        1.06553643e-03, -1.21271999e-03, -3.26414387e-04, -3.07816488e-04,\n",
       "       -8.89278079e-04,  2.12964603e-04, -1.39905553e-03, -1.17855962e-03,\n",
       "        9.31283457e-04, -7.95058075e-04,  7.49209427e-04,  6.69463837e-04,\n",
       "        1.52259266e-03,  4.60311081e-04, -1.82584097e-03, -6.44508279e-04,\n",
       "       -4.07149127e-04,  1.23153648e-03,  3.48434386e-04, -4.84973795e-04,\n",
       "        4.37439246e-04, -3.55468441e-04,  5.49601687e-04,  1.53705076e-04,\n",
       "        1.10896360e-03,  3.35432385e-04,  9.95715473e-04, -1.07281539e-05,\n",
       "        7.12131227e-04, -1.51602308e-04,  6.43716181e-04,  2.24059755e-04,\n",
       "       -1.23939809e-04, -4.19478664e-04, -2.73720781e-04,  4.73571872e-04,\n",
       "       -2.29178478e-03,  1.24071767e-03, -2.36741951e-03, -1.89663424e-04,\n",
       "       -3.29520163e-04,  7.39413951e-04,  2.35772227e-04, -4.31874483e-05,\n",
       "        8.39037667e-05,  9.46247401e-04,  2.34105577e-03,  3.77066118e-04,\n",
       "       -2.05933638e-03, -4.19208049e-04,  4.19733441e-04,  3.31468235e-03,\n",
       "       -7.65423117e-04, -3.72078796e-04,  5.59215083e-04,  3.23279674e-04,\n",
       "       -1.32386287e-03,  9.47108423e-04, -1.31606955e-03, -2.66558882e-04,\n",
       "        1.32476120e-03, -1.31880398e-03, -3.44389404e-04,  1.67011386e-03,\n",
       "       -2.60590621e-04, -1.04866340e-03, -5.82158284e-04,  8.36465495e-04,\n",
       "       -1.56911910e-03, -6.33480325e-04, -1.45894335e-03, -1.15847686e-03,\n",
       "        1.28726617e-03, -8.44551830e-05, -4.39843835e-04,  4.25212399e-04,\n",
       "       -7.15776053e-04, -1.20588972e-03,  1.14700238e-03,  8.78058755e-04,\n",
       "       -8.48407925e-04,  7.04367960e-04,  1.46016820e-03,  4.90950961e-04,\n",
       "        5.00161101e-04, -1.24439728e-03, -1.34893696e-04, -1.87536314e-03,\n",
       "        1.11504258e-03, -1.74740259e-04,  1.32581891e-03, -7.78141179e-04,\n",
       "        8.76534447e-04, -1.59369405e-03, -4.09143832e-04,  5.46562628e-04,\n",
       "        3.55701692e-04, -6.12680824e-05, -1.65783231e-03,  1.32821083e-03,\n",
       "        6.62151767e-04,  1.14471880e-03,  1.13162512e-03, -3.80447483e-04,\n",
       "        3.92717750e-04,  2.66285357e-03, -8.45495652e-04,  4.08406686e-04,\n",
       "       -5.66692205e-04,  1.76175214e-03,  1.73223639e-04, -1.05084978e-03,\n",
       "       -6.12391994e-04, -1.42321968e-03, -2.30392742e-03, -2.74193058e-03,\n",
       "       -7.37954906e-04, -1.14565890e-03,  1.47583327e-04, -8.39122885e-04,\n",
       "        2.23694052e-04,  1.78808565e-03, -1.19365750e-03, -1.22949128e-03,\n",
       "        9.91176724e-04,  2.36966235e-03, -8.87736108e-04, -1.71357743e-03,\n",
       "       -2.98243498e-04, -4.14049424e-04,  7.15506866e-04, -1.07934236e-03,\n",
       "       -2.70367011e-04])"
      ]
     },
     "execution_count": 20,
     "metadata": {},
     "output_type": "execute_result"
    }
   ],
   "source": [
    "# Инициализируем веса случайны образом\n",
    "np.random.seed(11)\n",
    "w = np.random.normal(scale=0.001, size = X.shape[1])\n",
    "w"
   ]
  },
  {
   "cell_type": "code",
   "execution_count": 21,
   "metadata": {},
   "outputs": [],
   "source": [
    "from sklearn.model_selection import train_test_split\n",
    "y=train['labels']\n",
    "X_train, X_test, y_train, y_test = train_test_split(X, y, test_size=0.33, random_state=42)"
   ]
  },
  {
   "cell_type": "code",
   "execution_count": 98,
   "metadata": {},
   "outputs": [],
   "source": [
    "def diffr(score):\n",
    "    if score>1.:\n",
    "        diff=1.-score\n",
    "        score=1+diff\n",
    "    return score"
   ]
  },
  {
   "cell_type": "code",
   "execution_count": 27,
   "metadata": {},
   "outputs": [],
   "source": [
    "def countF(p):\n",
    "    count=0\n",
    "    for i in range(0,len(p)):\n",
    "        if p[i]>=0.5:\n",
    "            count+=1\n",
    "    return count"
   ]
  },
  {
   "cell_type": "code",
   "execution_count": 102,
   "metadata": {},
   "outputs": [],
   "source": [
    "#Для отрисовки графиков\n",
    "import decimal\n",
    "np.random.seed(11)\n",
    "w = np.random.normal(scale=0.001, size = X.shape[1])\n",
    "w\n",
    "train_stat = []\n",
    "test_stat = []\n",
    "train_score = []\n",
    "test_score=[]\n",
    "for iter in range(100):\n",
    "    loss_train = 0\n",
    "    loss_test = 0\n",
    "    score_train=0\n",
    "    score_test=0\n",
    "    for i in range(X_train.shape[0]):\n",
    "        j = np.random.randint(0, X_train.shape[0])\n",
    "        grad = - y_train[j] * X_train[j] / \\\n",
    "            ( 1 + math.exp( y_train[j] * np.dot(w.T, X_train[j]) ) ) + 0.001*w\n",
    "        w =w - 0.0005* grad \n",
    "        loss_train+=np.log(1 + math.exp(-y_train[j] * np.dot(w.T, X_train[j]) ))\n",
    "    for i in range(X_test.shape[0]):\n",
    "        loss_test+=np.log(1 + math.exp(-y_test[i] * np.dot(w.T, X_test[i]) ))\n",
    "    loss_train=loss_train/X_train.shape[0]\n",
    "    loss_test=loss_test/X_test.shape[0]\n",
    "    train_stat.append([iter, loss_train])\n",
    "    test_stat.append([iter, loss_test])\n",
    "    p_train = (1. / (1. + np.exp(-np.dot(w, X_train.T))))\n",
    "    p_test = (1. / (1. + np.exp(-np.dot(w, X_test.T))))\n",
    "    count=0\n",
    "    for i in range(0,len(p_train)):\n",
    "        if p_train[i]>=0.5:\n",
    "            count+=1\n",
    "    score_train=count/y_train[y_train==1].size\n",
    "    count=0\n",
    "    for i in range(0,len(p_test)):\n",
    "        if p_test[i]>=0.5:\n",
    "            count+=1\n",
    "    score_test=count/y_test[y_test==1].size\n",
    "    if score_train>1.:\n",
    "        diff=1.-score_train\n",
    "        score_train=1+diff\n",
    "    if score_test>1.:\n",
    "        diff=1.-score_test\n",
    "        score_test=1+diff\n",
    "    train_score.append([iter, score_train])\n",
    "    test_score.append([iter, score_test])\n",
    "    \n",
    "    \n",
    "#plt.scatter(X[:, 1], X[:, 2], c=y, cmap=plt.cm.Set1, edgecolor='k')\n",
    "#print(w, grad)\n",
    "#draw_model(w)"
   ]
  },
  {
   "cell_type": "code",
   "execution_count": 10,
   "metadata": {},
   "outputs": [],
   "source": [
    "#финальные результаты\n",
    "y=train['labels']\n",
    "for iter in range(100):\n",
    "    for i in range(X.shape[0]):\n",
    "        j = np.random.randint(0, X.shape[0])\n",
    "        grad = - y[j] * X[j] / \\\n",
    "            ( 1 + math.exp( y[j] * np.dot(w.T, X[j]) ) ) + 0.001 * w\n",
    "        w = w - 0.0005 * grad\n",
    "p = (1. / (1. + np.exp(-np.dot(w, X.T))))"
   ]
  },
  {
   "cell_type": "code",
   "execution_count": 116,
   "metadata": {},
   "outputs": [
    {
     "data": {
      "text/plain": [
       "<matplotlib.legend.Legend at 0x1f44862e4e0>"
      ]
     },
     "execution_count": 116,
     "metadata": {},
     "output_type": "execute_result"
    },
    {
     "data": {
      "image/png": "[encoded data removed]",
      "text/plain": [
       "<Figure size 432x288 with 1 Axes>"
      ]
     },
     "metadata": {},
     "output_type": "display_data"
    }
   ],
   "source": [
    "trs = np.array(train_stat)\n",
    "tes = np.array(test_stat)\n",
    "plt.title('Loss')\n",
    "plt.plot(trs[:, 0], trs[:, 1], label='train')\n",
    "plt.plot(tes[:, 0], tes[:, 1], label='test')\n",
    "plt.legend()"
   ]
  },
  {
   "cell_type": "code",
   "execution_count": 103,
   "metadata": {},
   "outputs": [
    {
     "data": {
      "text/plain": [
       "<matplotlib.legend.Legend at 0x19432efa208>"
      ]
     },
     "execution_count": 103,
     "metadata": {},
     "output_type": "execute_result"
    },
    {
     "data": {
      "image/png": "[encoded data removed]",
      "text/plain": [
       "<Figure size 432x288 with 1 Axes>"
      ]
     },
     "metadata": {},
     "output_type": "display_data"
    }
   ],
   "source": [
    "trs = np.array(train_score)\n",
    "tes = np.array(test_score)\n",
    "plt.title('Score')\n",
    "plt.plot(trs[:, 0], trs[:, 1], label='train')\n",
    "plt.plot(tes[:, 0], tes[:, 1], label='test')\n",
    "plt.legend()"
   ]
  },
  {
   "cell_type": "code",
   "execution_count": 16,
   "metadata": {},
   "outputs": [],
   "source": [
    "\n",
    "# compute Y_pred\n",
    "Y_pred=p\n",
    "with open('C:\\\\Users\\\\denis\\\\Downloads\\\\solutionF.csv', 'w') as fout:\n",
    "    print(\"Id,Prediction\", file=fout)\n",
    "    for i in range(len(p)):\n",
    "        print(i, Y_pred[i], sep=',', file=fout)"
   ]
  }
 ],
 "metadata": {
  "kernelspec": {
   "display_name": "Python 3",
   "language": "python",
   "name": "python3"
  },
  "language_info": {
   "codemirror_mode": {
    "name": "ipython",
    "version": 3
   },
   "file_extension": ".py",
   "mimetype": "text/x-python",
   "name": "python",
   "nbconvert_exporter": "python",
   "pygments_lexer": "ipython3",
   "version": "3.6.5"
  }
 },
 "nbformat": 4,
 "nbformat_minor": 2
}
